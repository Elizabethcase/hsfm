{
 "cells": [
  {
   "cell_type": "code",
   "execution_count": null,
   "metadata": {},
   "outputs": [],
   "source": [
    "import bare\n",
    "import hsfm"
   ]
  },
  {
   "cell_type": "markdown",
   "metadata": {},
   "source": [
    "## Pre-process the imagery"
   ]
  },
  {
   "cell_type": "code",
   "execution_count": null,
   "metadata": {},
   "outputs": [],
   "source": [
    "camera_positions_file_name = 'input_data/targets.csv'\n",
    "template_directory         = 'input_data/fiducials/nagap/notch'\n",
    "output_directory           = 'input_data/images'"
   ]
  },
  {
   "cell_type": "markdown",
   "metadata": {},
   "source": [
    "#### Download thumbnails to disk to read off focal length"
   ]
  },
  {
   "cell_type": "code",
   "execution_count": null,
   "metadata": {},
   "outputs": [],
   "source": [
    "hsfm.batch.download_images_to_disk(camera_positions_file_name, \n",
    "                                   output_directory='input_data/thumbnails',\n",
    "                                   image_type='pid_tn') # pid_tiff, pid_tn, pid_jpeg"
   ]
  },
  {
   "cell_type": "markdown",
   "metadata": {},
   "source": [
    "#### Detect fiducial markers, crop, and enhance contrast"
   ]
  },
  {
   "cell_type": "code",
   "execution_count": null,
   "metadata": {},
   "outputs": [],
   "source": [
    "hsfm.batch.preprocess_images(template_directory,\n",
    "                             camera_positions_file_name=camera_positions_file_name,\n",
    "                             output_directory=output_directory,\n",
    "                             qc=True)"
   ]
  },
  {
   "cell_type": "markdown",
   "metadata": {},
   "source": [
    "## Download coarse SRTM reference DEM"
   ]
  },
  {
   "cell_type": "code",
   "execution_count": null,
   "metadata": {},
   "outputs": [],
   "source": [
    "output_directory = 'input_data/reference_dem/'\n",
    "\n",
    "LLLON = -121.90\n",
    "LLLAT = 48.65\n",
    "URLON = -121.60\n",
    "URLAT = 48.85"
   ]
  },
  {
   "cell_type": "code",
   "execution_count": null,
   "metadata": {},
   "outputs": [],
   "source": [
    "reference_dem = hsfm.utils.download_srtm(LLLON,\n",
    "                                         LLLAT,\n",
    "                                         URLON,\n",
    "                                         URLAT,\n",
    "                                         output_directory=output_directory,\n",
    "                                         verbose=False)"
   ]
  },
  {
   "cell_type": "markdown",
   "metadata": {},
   "source": [
    "#### Optional QC:"
   ]
  },
  {
   "cell_type": "code",
   "execution_count": null,
   "metadata": {},
   "outputs": [],
   "source": [
    "hsfm.plot.plot_dem_from_file(reference_dem)"
   ]
  },
  {
   "cell_type": "markdown",
   "metadata": {},
   "source": [
    "## Generate input for Metashape"
   ]
  },
  {
   "cell_type": "code",
   "execution_count": null,
   "metadata": {},
   "outputs": [],
   "source": [
    "import pandas as pd"
   ]
  },
  {
   "cell_type": "code",
   "execution_count": null,
   "metadata": {},
   "outputs": [],
   "source": [
    "reference_dem = 'input_data/reference_dem/SRTM3/cache/srtm.vrt'\n",
    "output_directory = 'input_data'"
   ]
  },
  {
   "cell_type": "code",
   "execution_count": null,
   "metadata": {},
   "outputs": [],
   "source": [
    "df = pd.read_csv(camera_positions_file_name)"
   ]
  },
  {
   "cell_type": "code",
   "execution_count": null,
   "metadata": {},
   "outputs": [],
   "source": [
    "hsfm.batch.calculate_heading_from_metadata(df, \n",
    "                                           output_directory=output_directory,\n",
    "                                           reference_dem=reference_dem,\n",
    "                                           for_metashape=True)"
   ]
  },
  {
   "cell_type": "markdown",
   "metadata": {},
   "source": [
    "## Download high resolution reference dem"
   ]
  },
  {
   "cell_type": "code",
   "execution_count": null,
   "metadata": {},
   "outputs": [],
   "source": [
    "reference_dem = 'input_data/reference_dem/lidar/baker.tif'"
   ]
  },
  {
   "cell_type": "code",
   "execution_count": null,
   "metadata": {},
   "outputs": [],
   "source": [
    "import driveanon as da\n",
    "!mkdir input_data/reference_dem/lidar/\n",
    "da.save('1ObQyjhYB_fjhvqtBq-vK3CdPoQ1Iauyd', filename=reference_dem)"
   ]
  },
  {
   "cell_type": "markdown",
   "metadata": {},
   "source": [
    "## Run processing with Metashape"
   ]
  },
  {
   "cell_type": "code",
   "execution_count": null,
   "metadata": {},
   "outputs": [],
   "source": [
    "# hsfm.metashape.authentication('path/to/licence/file.lic')"
   ]
  },
  {
   "cell_type": "code",
   "execution_count": null,
   "metadata": {},
   "outputs": [],
   "source": [
    "image_matching_accuracy = 4\n",
    "densecloud_quality      = 4"
   ]
  },
  {
   "cell_type": "code",
   "execution_count": null,
   "metadata": {},
   "outputs": [],
   "source": [
    "project_name          = 'easton'\n",
    "input_path            = 'input_data'\n",
    "output_path           = 'metashape/'\n",
    "images_path           = 'input_data/images'\n",
    "images_metadata_file  = 'input_data/metashape_metadata.csv'\n",
    "focal_length          = 151.303\n",
    "pixel_pitch           = 0.02\n",
    "verbose               = True\n",
    "rotation_enabled      = True"
   ]
  },
  {
   "cell_type": "code",
   "execution_count": null,
   "metadata": {},
   "outputs": [],
   "source": [
    "project_file, point_cloud_file = hsfm.metashape.images2las(project_name,\n",
    "                                            images_path,\n",
    "                                            images_metadata_file,\n",
    "                                            output_path,\n",
    "                                            focal_length            = focal_length,\n",
    "                                            pixel_pitch             = pixel_pitch,\n",
    "                                            image_matching_accuracy = image_matching_accuracy,\n",
    "                                            densecloud_quality      = densecloud_quality,\n",
    "                                            rotation_enabled        = rotation_enabled)"
   ]
  },
  {
   "cell_type": "code",
   "execution_count": null,
   "metadata": {},
   "outputs": [],
   "source": [
    "epsg_code = 'EPSG:'+ hsfm.geospatial.get_epsg_code(reference_dem)\n",
    "dem = hsfm.asp.point2dem(point_cloud_file, \n",
    "                         '--nodata-value','-9999',\n",
    "                         '--tr','0.5',\n",
    "                         '--threads', '10',\n",
    "                         '--t_srs', epsg_code,\n",
    "                         verbose=verbose)"
   ]
  },
  {
   "cell_type": "code",
   "execution_count": null,
   "metadata": {},
   "outputs": [],
   "source": [
    "clipped_reference_dem = 'metashape/reference_dem_clip.tif'\n",
    "clipped_reference_dem = hsfm.utils.clip_reference_dem(dem, \n",
    "                                                      reference_dem,\n",
    "                                                      output_file_name = clipped_reference_dem,\n",
    "                                                      buff_size        = 2000,\n",
    "                                                      verbose = verbose)"
   ]
  },
  {
   "cell_type": "code",
   "execution_count": null,
   "metadata": {},
   "outputs": [],
   "source": [
    "aligned_dem_file, _ =  hsfm.asp.pc_align_p2p_sp2p(dem,\n",
    "                                                  clipped_reference_dem,\n",
    "                                                  output_path,\n",
    "                                                  verbose = verbose)"
   ]
  },
  {
   "cell_type": "code",
   "execution_count": null,
   "metadata": {},
   "outputs": [],
   "source": [
    "hsfm.utils.dem_align_custom(clipped_reference_dem,\n",
    "                            aligned_dem_file,\n",
    "                            output_path,\n",
    "                            verbose = verbose)"
   ]
  },
  {
   "cell_type": "code",
   "execution_count": null,
   "metadata": {},
   "outputs": [],
   "source": []
  }
 ],
 "metadata": {
  "kernelspec": {
   "display_name": "Python 3",
   "language": "python",
   "name": "python3"
  },
  "language_info": {
   "codemirror_mode": {
    "name": "ipython",
    "version": 3
   },
   "file_extension": ".py",
   "mimetype": "text/x-python",
   "name": "python",
   "nbconvert_exporter": "python",
   "pygments_lexer": "ipython3",
   "version": "3.7.3"
  }
 },
 "nbformat": 4,
 "nbformat_minor": 2
}
