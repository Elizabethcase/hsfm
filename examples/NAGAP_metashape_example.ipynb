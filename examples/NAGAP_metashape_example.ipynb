{
 "cells": [
  {
   "cell_type": "code",
   "execution_count": null,
   "metadata": {},
   "outputs": [],
   "source": [
    "%load_ext autoreload\n",
    "%autoreload 2"
   ]
  },
  {
   "cell_type": "code",
   "execution_count": null,
   "metadata": {},
   "outputs": [],
   "source": [
    "import hsfm"
   ]
  },
  {
   "cell_type": "markdown",
   "metadata": {},
   "source": [
    "## Pre-select NAGAP imagery\n",
    "- The nagap_image_metadata.csv file has been compiled from NAGAP metadata files available at www.arcticdata.io. \n",
    "- The file contains all images for which a pid_tiff (tif image) ID is available in the metadata. \n",
    "- Some images do not have lat lon positional information, but are still included in the csv. \n",
    "- Setting lat lon bounds in the function below will remove those values, while only specifying a year, for example, will return them in the dataframe (if desired).\n",
    "- Specify target bounds as (ULLON, ULLAT, LRLON, LRLAT)\n",
    "- Specify target year as 77, e.g. for year 1977\n",
    "\n",
    "In this example we specify bounds to examine Easton Glacier at Mt Baker, WA for images taken in 1977."
   ]
  },
  {
   "cell_type": "code",
   "execution_count": null,
   "metadata": {},
   "outputs": [],
   "source": [
    "nagap_metadata_csv = 'input_data/nagap_image_metadata.csv'"
   ]
  },
  {
   "cell_type": "code",
   "execution_count": null,
   "metadata": {},
   "outputs": [],
   "source": [
    "bounds= (-121.846, 48.76, -121.823, 48.70) # approximate bounds for Easton glacier\n",
    "year = 77"
   ]
  },
  {
   "cell_type": "code",
   "execution_count": null,
   "metadata": {},
   "outputs": [],
   "source": [
    "df = hsfm.core.pre_select_NAGAP_images(nagap_metadata_csv,\n",
    "                                       bounds = bounds,\n",
    "                                       year = year)\n",
    "df"
   ]
  },
  {
   "cell_type": "markdown",
   "metadata": {},
   "source": [
    "## Download SRTM reference DEM\n",
    "- Note that the images above do not contain altitude values in the metadata. \n",
    "- We can download a coarse SRTM reference DEM to extract approximate flight altitudes.\n",
    "- We specify broader bounds here to cover Mt Baker, again as (ULLON, ULLAT, LRLON, LRLAT)."
   ]
  },
  {
   "cell_type": "code",
   "execution_count": null,
   "metadata": {},
   "outputs": [],
   "source": [
    "bounds = (-121.90, 48.85, -121.60, 48.65) # approximate bounds for Mt Baker"
   ]
  },
  {
   "cell_type": "code",
   "execution_count": null,
   "metadata": {},
   "outputs": [],
   "source": [
    "srtm_reference_dem = hsfm.utils.download_srtm(bounds)"
   ]
  },
  {
   "cell_type": "code",
   "execution_count": null,
   "metadata": {},
   "outputs": [],
   "source": [
    "srtm_reference_dem = './input_data/reference_dem/srtm_subset-adj.tif'\n",
    "hsfm.plot.plot_dem_from_file(srtm_reference_dem)"
   ]
  },
  {
   "cell_type": "markdown",
   "metadata": {},
   "source": [
    "## Pre-process the imagery\n",
    "- Download thumbnails to disk to read off focal length"
   ]
  },
  {
   "cell_type": "code",
   "execution_count": null,
   "metadata": {},
   "outputs": [],
   "source": [
    "hsfm.batch.download_images_to_disk(df, \n",
    "                                   output_directory='input_data/thumbnails',\n",
    "                                   image_type='pid_tn') # pid_tiff, pid_tn, pid_jpeg"
   ]
  },
  {
   "cell_type": "code",
   "execution_count": null,
   "metadata": {},
   "outputs": [],
   "source": [
    "focal_length = 151.303 # read off image frame in downloaded thumbnails"
   ]
  },
  {
   "cell_type": "markdown",
   "metadata": {},
   "source": [
    "- Detect fiducial markers, crop, and enhance contrast"
   ]
  },
  {
   "cell_type": "code",
   "execution_count": null,
   "metadata": {},
   "outputs": [],
   "source": [
    "template_directory = 'input_data/fiducials/nagap/notch'"
   ]
  },
  {
   "cell_type": "code",
   "execution_count": null,
   "metadata": {},
   "outputs": [],
   "source": [
    "hsfm.batch.preprocess_images(template_directory,\n",
    "                             image_metadata=df,\n",
    "                             output_directory='input_data/processed_images',\n",
    "                             qc=True)"
   ]
  },
  {
   "cell_type": "markdown",
   "metadata": {},
   "source": [
    "## Determine image clusters\n",
    "- This step determines if there are multiple clusters of images present within the selection.\n",
    "- If there is no overlap between clusters of images, they must be processed into seperate DEMs for alignment in later steps to be successful.\n",
    "- In this example, there is only one cluster of images."
   ]
  },
  {
   "cell_type": "code",
   "execution_count": null,
   "metadata": {},
   "outputs": [],
   "source": [
    "hsfm.core.determine_image_clusters(df,\n",
    "                                   output_directory='input_data',\n",
    "                                   reference_dem=srtm_reference_dem,\n",
    "                                   image_directory = 'input_data/processed_images')"
   ]
  },
  {
   "cell_type": "markdown",
   "metadata": {},
   "source": [
    "## Download high resolution reference dem"
   ]
  },
  {
   "cell_type": "code",
   "execution_count": null,
   "metadata": {},
   "outputs": [],
   "source": [
    "reference_dem = 'input_data/reference_dem/lidar/baker.tif'"
   ]
  },
  {
   "cell_type": "code",
   "execution_count": null,
   "metadata": {},
   "outputs": [],
   "source": [
    "import driveanon as da\n",
    "!mkdir input_data/reference_dem/lidar/\n",
    "da.save('1ObQyjhYB_fjhvqtBq-vK3CdPoQ1Iauyd', filename=reference_dem)"
   ]
  },
  {
   "cell_type": "markdown",
   "metadata": {},
   "source": [
    "## Run processing with Metashape"
   ]
  },
  {
   "cell_type": "code",
   "execution_count": null,
   "metadata": {},
   "outputs": [],
   "source": [
    "# hsfm.metashape.authentication('path/to/licence/file.lic')"
   ]
  },
  {
   "cell_type": "code",
   "execution_count": null,
   "metadata": {},
   "outputs": [],
   "source": [
    "image_matching_accuracy = 4\n",
    "densecloud_quality      = 4"
   ]
  },
  {
   "cell_type": "code",
   "execution_count": null,
   "metadata": {},
   "outputs": [],
   "source": [
    "project_name          = 'easton'\n",
    "output_path           = 'metashape/'\n",
    "images_path           = 'input_data/cluster_000/images'\n",
    "images_metadata_file  = 'input_data/cluster_000/metashape_metadata.csv'\n",
    "focal_length          = 151.303\n",
    "pixel_pitch           = 0.02\n",
    "verbose               = True\n",
    "rotation_enabled      = True"
   ]
  },
  {
   "cell_type": "code",
   "execution_count": null,
   "metadata": {},
   "outputs": [],
   "source": [
    "project_file, point_cloud_file = hsfm.metashape.images2las(project_name,\n",
    "                                            images_path,\n",
    "                                            images_metadata_file,\n",
    "                                            output_path,\n",
    "                                            focal_length            = focal_length,\n",
    "                                            pixel_pitch             = pixel_pitch,\n",
    "                                            image_matching_accuracy = image_matching_accuracy,\n",
    "                                            densecloud_quality      = densecloud_quality,\n",
    "                                            rotation_enabled        = rotation_enabled)"
   ]
  },
  {
   "cell_type": "code",
   "execution_count": null,
   "metadata": {},
   "outputs": [],
   "source": [
    "epsg_code = 'EPSG:'+ hsfm.geospatial.get_epsg_code(reference_dem)\n",
    "dem = hsfm.asp.point2dem(point_cloud_file, \n",
    "                         '--nodata-value','-9999',\n",
    "                         '--tr','0.5',\n",
    "                         '--threads', '10',\n",
    "                         '--t_srs', epsg_code,\n",
    "                         verbose=verbose)"
   ]
  },
  {
   "cell_type": "code",
   "execution_count": null,
   "metadata": {},
   "outputs": [],
   "source": [
    "clipped_reference_dem = 'metashape/reference_dem_clip.tif'\n",
    "clipped_reference_dem = hsfm.utils.clip_reference_dem(dem, \n",
    "                                                      reference_dem,\n",
    "                                                      output_file_name = clipped_reference_dem,\n",
    "                                                      buff_size        = 2000,\n",
    "                                                      verbose = verbose)"
   ]
  },
  {
   "cell_type": "code",
   "execution_count": null,
   "metadata": {},
   "outputs": [],
   "source": [
    "aligned_dem_file, _ =  hsfm.asp.pc_align_p2p_sp2p(dem,\n",
    "                                                  clipped_reference_dem,\n",
    "                                                  output_path,\n",
    "                                                  verbose = verbose)"
   ]
  },
  {
   "cell_type": "code",
   "execution_count": null,
   "metadata": {},
   "outputs": [],
   "source": [
    "hsfm.utils.dem_align_custom(clipped_reference_dem,\n",
    "                            aligned_dem_file,\n",
    "                            output_path,\n",
    "                            verbose = verbose)"
   ]
  },
  {
   "cell_type": "code",
   "execution_count": null,
   "metadata": {},
   "outputs": [],
   "source": []
  }
 ],
 "metadata": {
  "kernelspec": {
   "display_name": "Python 3",
   "language": "python",
   "name": "python3"
  },
  "language_info": {
   "codemirror_mode": {
    "name": "ipython",
    "version": 3
   },
   "file_extension": ".py",
   "mimetype": "text/x-python",
   "name": "python",
   "nbconvert_exporter": "python",
   "pygments_lexer": "ipython3",
   "version": "3.7.6"
  }
 },
 "nbformat": 4,
 "nbformat_minor": 2
}
